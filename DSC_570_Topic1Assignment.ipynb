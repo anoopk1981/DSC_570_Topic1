{
 "cells": [
  {
   "cell_type": "code",
   "execution_count": 37,
   "outputs": [
    {
     "data": {
      "text/html": "<h1>Topic1 Assignment</h1>",
      "text/plain": "Topic1 Assignment"
     },
     "metadata": {},
     "output_type": "display_data"
    },
    {
     "data": {
      "text/html": "<h1>Anoop Korappath</h1>",
      "text/plain": "Anoop Korappath"
     },
     "metadata": {},
     "output_type": "display_data"
    },
    {
     "data": {
      "text/html": "<h1>05/04/2022</h1>",
      "text/plain": "05/04/2022"
     },
     "metadata": {},
     "output_type": "display_data"
    }
   ],
   "source": [
    "from IPython.display import display\n",
    "display({'text/html': '<h1>Topic1 Assignment</h1>', 'text/plain': 'Topic1 Assignment'}, raw=True)\n",
    "display({'text/html': '<h1>Anoop Korappath</h1>', 'text/plain': 'Anoop Korappath'}, raw=True)\n",
    "display({'text/html': '<h1>05/04/2022</h1>', 'text/plain': '05/04/2022'}, raw=True)"
   ],
   "metadata": {
    "collapsed": false,
    "pycharm": {
     "name": "#%%\n"
    }
   }
  },
  {
   "cell_type": "markdown",
   "source": [
    "#### Import Libraries"
   ],
   "metadata": {
    "collapsed": false,
    "pycharm": {
     "name": "#%% md\n"
    }
   }
  },
  {
   "cell_type": "code",
   "execution_count": 38,
   "outputs": [],
   "source": [
    "import pandas as pd\n",
    "import numpy as np\n",
    "import math"
   ],
   "metadata": {
    "collapsed": false,
    "pycharm": {
     "name": "#%%\n"
    }
   }
  },
  {
   "cell_type": "markdown",
   "source": [
    "#### Read data set"
   ],
   "metadata": {
    "collapsed": false,
    "pycharm": {
     "name": "#%% md\n"
    }
   }
  },
  {
   "cell_type": "code",
   "execution_count": 39,
   "outputs": [],
   "source": [
    "data_iris = pd.read_csv('iris.csv', header=None)\n",
    "data_iris.columns = ['sepal_length', 'sepal_width',\n",
    "                'petal_length', 'petal_width', 'target_class']\n"
   ],
   "metadata": {
    "collapsed": false,
    "pycharm": {
     "name": "#%%\n"
    }
   }
  },
  {
   "cell_type": "markdown",
   "source": [
    "#### Chi Merge function"
   ],
   "metadata": {
    "collapsed": false
   }
  },
  {
   "cell_type": "code",
   "execution_count": 40,
   "outputs": [],
   "source": [
    "def do_chimerge(feature, data, max_interval):\n",
    "    df = data.sort_values(by=[feature],ascending=True).reset_index()\n",
    "\n",
    "    #create frequency table\n",
    "    contingency_matrix = calculate_contingency_matrix(df,feature)\n",
    "\n",
    "    #Determine the number of intervals to be used as a starting point.\n",
    "    # Initially, each entry is an interval on its own.\n",
    "    num_intervals= contingency_matrix.shape[0]\n",
    "\n",
    "    # Continue looping until the maximum interval criterion is met.\n",
    "    while num_intervals > max_interval:\n",
    "        #each neighboring row pairs, compute the chi square\n",
    "        chi2_df = update_chi2(contingency_matrix,feature)\n",
    "\n",
    "        #Merge rows based on the chi square values that are the lowest.\n",
    "        contingency_matrix = perform_merge(chi2_df,feature)\n",
    "\n",
    "        #number of intervals to be updated\n",
    "        num_intervals= contingency_matrix.shape[0]\n",
    "\n",
    "    # Results should be printed.\n",
    "    print('The split points for '+feature+' are:')\n",
    "    for index, row in contingency_matrix.iterrows():\n",
    "        print(contingency_matrix.loc[index][feature])\n",
    "\n",
    "    print('The final intervals for '+feature+' are:')\n",
    "    for index, row in contingency_matrix.iterrows():\n",
    "        if(index!=contingency_matrix.shape[0]-1):\n",
    "            for index2, row2 in df.iterrows():\n",
    "                if df.loc[index2][feature]<contingency_matrix.loc[index+1][feature]:\n",
    "                    temp = df.loc[index2][feature]\n",
    "        else:\n",
    "            temp = df[feature].iloc[-1]\n",
    "        print(\"[\"+str(contingency_matrix.loc[index][feature])+\",\"+str(temp)+\"]\")\n",
    "    print(\" \")"
   ],
   "metadata": {
    "collapsed": false,
    "pycharm": {
     "name": "#%%\n"
    }
   }
  },
  {
   "cell_type": "markdown",
   "source": [
    "#### Function to calculate the frequency table"
   ],
   "metadata": {
    "collapsed": false
   }
  },
  {
   "cell_type": "code",
   "execution_count": 41,
   "outputs": [],
   "source": [
    "def calculate_contingency_matrix(dataframe, feature):\n",
    "    distinct_values = sorted(set(dataframe[feature]), reverse=False)\n",
    "    col_names =  [feature,'Iris-setosa', 'Iris-versicolor','Iris-virginica','chi2']\n",
    "    my_contingency  = pd.DataFrame(columns = col_names)\n",
    "\n",
    "    #The different attribute values are as follows:\n",
    "    for i in range(len(distinct_values)):\n",
    "        temp_df=dataframe.loc[dataframe[feature]==distinct_values[i]]\n",
    "        count_dict = temp_df[\"target_class\"].value_counts().to_dict()\n",
    "\n",
    "        #Begin with zero frequencies.\n",
    "        setosa_count = 0\n",
    "        versicolor_count = 0\n",
    "        virginica_count = 0\n",
    "\n",
    "        #if required, update\n",
    "        if 'Iris-setosa' in count_dict:\n",
    "            setosa_count = count_dict['Iris-setosa']\n",
    "        if 'Iris-versicolor' in count_dict:\n",
    "            versicolor_count = count_dict['Iris-versicolor']\n",
    "        if 'Iris-virginica' in count_dict:\n",
    "            virginica_count = count_dict['Iris-virginica']\n",
    "\n",
    "        new_row = [distinct_values[i],setosa_count,versicolor_count,virginica_count,0]\n",
    "        my_contingency.loc[len(my_contingency)] = new_row\n",
    "\n",
    "    return my_contingency"
   ],
   "metadata": {
    "collapsed": false,
    "pycharm": {
     "name": "#%%\n"
    }
   }
  },
  {
   "cell_type": "markdown",
   "source": [
    "#### Function to calculate chi square values for each row pair"
   ],
   "metadata": {
    "collapsed": false
   }
  },
  {
   "cell_type": "code",
   "execution_count": 42,
   "outputs": [],
   "source": [
    "def update_chi2(contingency_matrix, feature):\n",
    "\n",
    "    for index, row in contingency_matrix.iterrows():\n",
    "        #We don't want to work on the very last row only\n",
    "        if index!=contingency_matrix.shape[0]-1:\n",
    "\n",
    "            # at a time, construct an array containing two rows of data\n",
    "            list1=[]\n",
    "            list2=[]\n",
    "            list1.append(contingency_matrix.loc[index]['Iris-setosa'])\n",
    "            list1.append(contingency_matrix.loc[index]['Iris-versicolor'])\n",
    "            list1.append(contingency_matrix.loc[index]['Iris-virginica'])\n",
    "            list2.append(contingency_matrix.loc[index+1]['Iris-setosa'])\n",
    "            list2.append(contingency_matrix.loc[index+1]['Iris-versicolor'])\n",
    "            list2.append(contingency_matrix.loc[index+1]['Iris-virginica'])\n",
    "            prep_chi2 = np.array([np.array(list1),np.array(list2)])\n",
    "\n",
    "            #Calculate the chi square values in real time.\n",
    "            c2 = calculate_chi2(prep_chi2)\n",
    "\n",
    "            #dataframe should be updated\n",
    "            contingency_matrix.loc[index]['chi2'] = c2\n",
    "    return contingency_matrix\n"
   ],
   "metadata": {
    "collapsed": false,
    "pycharm": {
     "name": "#%%\n"
    }
   }
  },
  {
   "cell_type": "markdown",
   "source": [
    "#### Chi-square function"
   ],
   "metadata": {
    "collapsed": false
   }
  },
  {
   "cell_type": "code",
   "execution_count": 43,
   "outputs": [],
   "source": [
    "def calculate_chi2(array):\n",
    "    shape = array.shape\n",
    "    n = float(array.sum()) #total amount of submissions\n",
    "    row={}\n",
    "    column={}\n",
    "\n",
    "    #locate row-by-row summaries\n",
    "    for i in range(shape[0]):\n",
    "        row[i] = array[i].sum()\n",
    "\n",
    "    #locate column-by-column summaries\n",
    "    for j in range(shape[1]):\n",
    "        column[j] = array[:,j].sum()\n",
    "\n",
    "    chi2 = 0\n",
    "\n",
    "    #using the calculation for the chi square\n",
    "    for i in range(shape[0]):\n",
    "        for j in range(shape[1]):\n",
    "            eij = row[i]*column[j] / n\n",
    "            oij = array[i,j]\n",
    "            if eij==0.:\n",
    "                chi2 += 0. #ensuring that Nan does not annoy us\n",
    "            else:\n",
    "                chi2 += math.pow((oij - eij),2) / float(eij)\n",
    "\n",
    "    return chi2"
   ],
   "metadata": {
    "collapsed": false,
    "pycharm": {
     "name": "#%%\n"
    }
   }
  },
  {
   "cell_type": "markdown",
   "source": [
    "#### Function to merge rows based on least chi square values"
   ],
   "metadata": {
    "collapsed": false,
    "pycharm": {
     "name": "#%% md\n"
    }
   }
  },
  {
   "cell_type": "code",
   "execution_count": 44,
   "outputs": [],
   "source": [
    "def perform_merge(df, feature):\n",
    "\n",
    "    tdf = df[:-1]\n",
    "    distinct_values = sorted(set(tdf['chi2']), reverse=False)\n",
    "\n",
    "    col_names =  [feature,'Iris-setosa', 'Iris-versicolor',\n",
    "                  'Iris-virginica','chi2']\n",
    "    #new dataframe to return\n",
    "    updated_df  = pd.DataFrame(columns = col_names)\n",
    "\n",
    "    updated_df_index=0\n",
    "    for index, row in df.iterrows(): #iterating over an existing dataframe\n",
    "        if(index==0):\n",
    "            updated_df.loc[len(updated_df)] = df.loc[index]\n",
    "            updated_df_index+=1\n",
    "        else:\n",
    "            if df.loc[index - 1]['chi2']==distinct_values[0]: #merge\n",
    "                updated_df.loc[updated_df_index-1]['Iris-setosa']+=df.loc[index]['Iris-setosa']\n",
    "                updated_df.loc[updated_df_index-1]['Iris-versicolor']+=df.loc[index]['Iris-versicolor']\n",
    "                updated_df.loc[updated_df_index-1]['Iris-virginica']+=df.loc[index]['Iris-virginica']\n",
    "            else:\n",
    "                updated_df.loc[len(updated_df)] = df.loc[index]\n",
    "                updated_df_index+=1\n",
    "\n",
    "    updated_df['chi2'] = 0.   #removing previous chi square values\n",
    "\n",
    "    return updated_df\n"
   ],
   "metadata": {
    "collapsed": false,
    "pycharm": {
     "name": "#%%\n"
    }
   }
  },
  {
   "cell_type": "markdown",
   "source": [
    "#### Initialization"
   ],
   "metadata": {
    "collapsed": false,
    "pycharm": {
     "name": "#%% md\n"
    }
   }
  },
  {
   "cell_type": "code",
   "execution_count": 45,
   "outputs": [
    {
     "name": "stdout",
     "output_type": "stream",
     "text": [
      "The split points for sepal_length are:\n",
      "4.3\n",
      "4.9\n",
      "5.0\n",
      "5.5\n",
      "5.8\n",
      "7.1\n",
      "The final intervals for sepal_length are:\n",
      "[4.3,4.8]\n",
      "[4.9,4.9]\n",
      "[5.0,5.4]\n",
      "[5.5,5.7]\n",
      "[5.8,7.0]\n",
      "[7.1,7.9]\n",
      " \n",
      "The split points for sepal_width are:\n",
      "2.0\n",
      "2.3\n",
      "2.5\n",
      "2.9\n",
      "3.0\n",
      "3.4\n",
      "The final intervals for sepal_width are:\n",
      "[2.0,2.2]\n",
      "[2.3,2.4]\n",
      "[2.5,2.8]\n",
      "[2.9,2.9]\n",
      "[3.0,3.3]\n",
      "[3.4,4.4]\n",
      " \n",
      "The split points for petal_length are:\n",
      "1.0\n",
      "3.0\n",
      "4.5\n",
      "4.8\n",
      "5.0\n",
      "5.2\n",
      "The final intervals for petal_length are:\n",
      "[1.0,1.9]\n",
      "[3.0,4.4]\n",
      "[4.5,4.7]\n",
      "[4.8,4.9]\n",
      "[5.0,5.1]\n",
      "[5.2,6.9]\n",
      " \n",
      "The split points for petal_width are:\n",
      "0.1\n",
      "1.0\n",
      "1.4\n",
      "1.7\n",
      "1.8\n",
      "1.9\n",
      "The final intervals for petal_width are:\n",
      "[0.1,0.6]\n",
      "[1.0,1.3]\n",
      "[1.4,1.6]\n",
      "[1.7,1.7]\n",
      "[1.8,1.8]\n",
      "[1.9,2.5]\n",
      " \n"
     ]
    }
   ],
   "source": [
    "if __name__=='__main__':\n",
    "\tfor feature in ['sepal_length', 'sepal_width', 'petal_length','petal_width']:\n",
    "\t\tdo_chimerge(feature=feature, data=data_iris, max_interval=6)\n",
    "\n"
   ],
   "metadata": {
    "collapsed": false,
    "pycharm": {
     "name": "#%%\n"
    }
   }
  }
 ],
 "metadata": {
  "kernelspec": {
   "display_name": "Python 3",
   "language": "python",
   "name": "python3"
  },
  "language_info": {
   "codemirror_mode": {
    "name": "ipython",
    "version": 2
   },
   "file_extension": ".py",
   "mimetype": "text/x-python",
   "name": "python",
   "nbconvert_exporter": "python",
   "pygments_lexer": "ipython2",
   "version": "2.7.6"
  }
 },
 "nbformat": 4,
 "nbformat_minor": 0
}